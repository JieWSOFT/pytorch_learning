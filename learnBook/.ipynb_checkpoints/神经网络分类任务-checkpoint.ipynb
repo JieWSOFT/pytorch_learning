{
 "cells": [
  {
   "cell_type": "code",
   "execution_count": 1,
   "id": "ba5097ff",
   "metadata": {},
   "outputs": [
    {
     "name": "stdout",
     "output_type": "stream",
     "text": [
      "2.4.1+cu124\n"
     ]
    }
   ],
   "source": [
    "import torch\n",
    "print(torch.__version__)"
   ]
  },
  {
   "cell_type": "code",
   "execution_count": 8,
   "id": "f8018d2a",
   "metadata": {},
   "outputs": [],
   "source": [
    "import torchvision\n",
    "# 设置训练集\n",
    "train_ds = torchvision.datasets.MNIST('data', train=True, transform=torchvision.transforms.ToTensor(), download=True)\n",
    "\n",
    "# 设置测试集\n",
    "test_ds = torchvision.datasets.MNIST('data', train=False, transform=torchvision.transforms.ToTensor(), download=True)\n"
   ]
  },
  {
   "cell_type": "code",
   "execution_count": 45,
   "id": "7dae07a0",
   "metadata": {},
   "outputs": [
    {
     "data": {
      "text/plain": [
       "torch.Size([64, 1, 28, 28])"
      ]
     },
     "execution_count": 45,
     "metadata": {},
     "output_type": "execute_result"
    }
   ],
   "source": [
    "bs = 64\n",
    "train_dl = torch.utils.data.DataLoader(train_ds,batch_size=bs,shuffle=True)\n",
    "\n",
    "test_dl  = torch.utils.data.DataLoader(test_ds)\n",
    "\n",
    "# 取一个批次查看数据格式\n",
    "# 数据的shape为：[batch_size, channel, height, weight]\n",
    "# 其中batch_size为自己设定，channel，height和weight分别是图片的通道数，高度和宽度。\n",
    "imgs, labels = next(iter(train_dl))\n",
    "imgs.shape"
   ]
  },
  {
   "cell_type": "code",
   "execution_count": 57,
   "id": "adc0e6cb",
   "metadata": {},
   "outputs": [
    {
     "data": {
      "text/plain": [
       "<matplotlib.image.AxesImage at 0x1d1ca88b310>"
      ]
     },
     "execution_count": 57,
     "metadata": {},
     "output_type": "execute_result"
    },
    {
     "data": {
      "image/png": "[encoded data removed]",
      "text/plain": [
       "<Figure size 640x480 with 1 Axes>"
      ]
     },
     "metadata": {},
     "output_type": "display_data"
    }
   ],
   "source": [
    "from matplotlib import pyplot\n",
    "import numpy as np\n",
    "\n",
    "img = imgs[0,0]\n",
    "pyplot.imshow(img, cmap=\"gray\")"
   ]
  },
  {
   "cell_type": "code",
   "execution_count": 42,
   "id": "ea59278c",
   "metadata": {},
   "outputs": [
    {
     "data": {
      "text/plain": [
       "Mnist_NN(\n",
       "  (hidden1): Linear(in_features=784, out_features=128, bias=True)\n",
       "  (hidden2): Linear(in_features=128, out_features=256, bias=True)\n",
       "  (out): Linear(in_features=256, out_features=10, bias=True)\n",
       "  (dropout): Dropout(p=0.5, inplace=False)\n",
       ")"
      ]
     },
     "execution_count": 42,
     "metadata": {},
     "output_type": "execute_result"
    }
   ],
   "source": [
    "from torch import nn\n",
    "import torch.nn.functional as F\n",
    "\n",
    "class Mnist_NN(nn.Module):\n",
    "    def __init__(self):\n",
    "        super().__init__()\n",
    "        self.hidden1 = nn.Linear(784,128)\n",
    "        self.hidden2 = nn.Linear(128,256)\n",
    "        self.out = nn.Linear(256,10)\n",
    "        self.dropout = nn.Dropout(0.5)\n",
    "        \n",
    "    def forward(self,x):\n",
    "        x = F.relu(self.hidden1(x))\n",
    "        x = self.dropout(x)\n",
    "        x = F.relu(self.hidden2(x))\n",
    "        x = self.dropout(x)\n",
    "        x = self.out(x)\n",
    "        return x\n",
    "\n",
    "net = Mnist_NN()\n",
    "net"
   ]
  },
  {
   "cell_type": "code",
   "execution_count": 44,
   "id": "32822aea",
   "metadata": {},
   "outputs": [
    {
     "name": "stdout",
     "output_type": "stream",
     "text": [
      "hidden1.weight Parameter containing:\n",
      "tensor([[-0.0317, -0.0012, -0.0117,  ...,  0.0142, -0.0302,  0.0328],\n",
      "        [ 0.0201, -0.0130,  0.0142,  ...,  0.0220, -0.0077,  0.0285],\n",
      "        [ 0.0337,  0.0302,  0.0205,  ...,  0.0095, -0.0099,  0.0258],\n",
      "        ...,\n",
      "        [-0.0293, -0.0150,  0.0075,  ...,  0.0128, -0.0320,  0.0146],\n",
      "        [ 0.0310,  0.0311, -0.0015,  ..., -0.0024, -0.0337, -0.0142],\n",
      "        [ 0.0073, -0.0026, -0.0333,  ..., -0.0282, -0.0327,  0.0129]],\n",
      "       requires_grad=True) torch.Size([128, 784])\n",
      "hidden1.bias Parameter containing:\n",
      "tensor([ 0.0148, -0.0289, -0.0308, -0.0088,  0.0342,  0.0053,  0.0099, -0.0134,\n",
      "         0.0296,  0.0226, -0.0255, -0.0082,  0.0130, -0.0265, -0.0001,  0.0329,\n",
      "        -0.0068, -0.0232,  0.0241,  0.0156, -0.0011,  0.0233, -0.0322, -0.0051,\n",
      "        -0.0321, -0.0037, -0.0303,  0.0183, -0.0198, -0.0293,  0.0025,  0.0077,\n",
      "        -0.0058,  0.0356, -0.0204, -0.0323,  0.0351,  0.0199, -0.0173,  0.0176,\n",
      "        -0.0269, -0.0346,  0.0073,  0.0031,  0.0056,  0.0294,  0.0046,  0.0020,\n",
      "        -0.0083,  0.0074, -0.0286,  0.0291, -0.0087,  0.0055, -0.0062, -0.0082,\n",
      "         0.0309,  0.0320, -0.0071,  0.0072, -0.0085,  0.0293, -0.0157,  0.0297,\n",
      "         0.0225, -0.0037,  0.0096, -0.0297,  0.0027, -0.0120,  0.0315,  0.0118,\n",
      "         0.0319, -0.0255,  0.0038, -0.0157, -0.0070, -0.0181,  0.0123, -0.0010,\n",
      "         0.0099,  0.0262,  0.0292, -0.0341,  0.0299,  0.0295,  0.0112,  0.0301,\n",
      "        -0.0293,  0.0132,  0.0111,  0.0187,  0.0320,  0.0006, -0.0089,  0.0213,\n",
      "         0.0077,  0.0236,  0.0119,  0.0097,  0.0064,  0.0291, -0.0019,  0.0325,\n",
      "         0.0344,  0.0115,  0.0228,  0.0270,  0.0014, -0.0014, -0.0345,  0.0073,\n",
      "        -0.0011,  0.0069, -0.0166, -0.0218, -0.0078, -0.0269,  0.0190, -0.0353,\n",
      "         0.0196,  0.0313, -0.0009, -0.0135, -0.0296,  0.0229, -0.0344,  0.0212],\n",
      "       requires_grad=True) torch.Size([128])\n",
      "hidden2.weight Parameter containing:\n",
      "tensor([[ 0.0684,  0.0313,  0.0100,  ..., -0.0217,  0.0492,  0.0626],\n",
      "        [-0.0818, -0.0541,  0.0186,  ..., -0.0070, -0.0619, -0.0301],\n",
      "        [-0.0714,  0.0049, -0.0403,  ...,  0.0760, -0.0037,  0.0213],\n",
      "        ...,\n",
      "        [ 0.0714,  0.0819,  0.0753,  ...,  0.0727,  0.0711, -0.0377],\n",
      "        [ 0.0771, -0.0702,  0.0113,  ..., -0.0600, -0.0158,  0.0392],\n",
      "        [ 0.0832, -0.0328,  0.0324,  ..., -0.0112,  0.0185,  0.0184]],\n",
      "       requires_grad=True) torch.Size([256, 128])\n",
      "hidden2.bias Parameter containing:\n",
      "tensor([-0.0867, -0.0366,  0.0846, -0.0439,  0.0178, -0.0066,  0.0830, -0.0213,\n",
      "        -0.0752,  0.0604,  0.0254, -0.0515,  0.0614,  0.0587, -0.0119,  0.0798,\n",
      "        -0.0842,  0.0843,  0.0516, -0.0599, -0.0733,  0.0384, -0.0755, -0.0518,\n",
      "        -0.0349, -0.0834, -0.0574,  0.0730, -0.0671,  0.0527,  0.0557, -0.0361,\n",
      "        -0.0879,  0.0572,  0.0710, -0.0020, -0.0319,  0.0283, -0.0719, -0.0141,\n",
      "         0.0693, -0.0234, -0.0797,  0.0139, -0.0060,  0.0670, -0.0608, -0.0465,\n",
      "        -0.0702,  0.0067,  0.0410,  0.0032, -0.0754, -0.0395, -0.0488,  0.0878,\n",
      "         0.0600, -0.0210, -0.0110,  0.0085, -0.0122, -0.0779,  0.0373,  0.0146,\n",
      "         0.0427,  0.0676, -0.0413,  0.0249, -0.0834, -0.0308,  0.0470,  0.0683,\n",
      "         0.0576,  0.0744,  0.0295,  0.0615, -0.0829,  0.0649,  0.0644,  0.0451,\n",
      "        -0.0338,  0.0608, -0.0076, -0.0296,  0.0076,  0.0139,  0.0481, -0.0465,\n",
      "        -0.0800,  0.0821, -0.0308,  0.0085,  0.0229, -0.0246,  0.0125,  0.0599,\n",
      "         0.0056, -0.0417, -0.0392,  0.0526, -0.0742, -0.0750,  0.0035, -0.0624,\n",
      "         0.0278,  0.0306, -0.0882,  0.0760, -0.0068, -0.0816,  0.0541, -0.0410,\n",
      "         0.0782,  0.0699, -0.0534,  0.0497, -0.0349,  0.0542, -0.0755, -0.0357,\n",
      "        -0.0478, -0.0146, -0.0110, -0.0408, -0.0498,  0.0340, -0.0654,  0.0740,\n",
      "         0.0149,  0.0633, -0.0128, -0.0725,  0.0835, -0.0303,  0.0510, -0.0510,\n",
      "         0.0644, -0.0173, -0.0795, -0.0190,  0.0325,  0.0358,  0.0346, -0.0526,\n",
      "         0.0776,  0.0619,  0.0458,  0.0802, -0.0643, -0.0353,  0.0391,  0.0190,\n",
      "        -0.0804, -0.0637, -0.0193, -0.0586,  0.0136, -0.0552,  0.0811,  0.0097,\n",
      "         0.0231,  0.0012,  0.0845, -0.0764,  0.0774, -0.0002,  0.0395, -0.0541,\n",
      "        -0.0081, -0.0538,  0.0230,  0.0645, -0.0634, -0.0805, -0.0385, -0.0509,\n",
      "         0.0044, -0.0250,  0.0176,  0.0553,  0.0468, -0.0716,  0.0793, -0.0476,\n",
      "         0.0348, -0.0789, -0.0634,  0.0492,  0.0679, -0.0317,  0.0468, -0.0776,\n",
      "        -0.0712,  0.0218, -0.0852,  0.0296, -0.0528,  0.0040,  0.0623, -0.0650,\n",
      "        -0.0032, -0.0623, -0.0393,  0.0643, -0.0531,  0.0408, -0.0129, -0.0067,\n",
      "         0.0648,  0.0309,  0.0729,  0.0019,  0.0854,  0.0191,  0.0313, -0.0620,\n",
      "         0.0637, -0.0302, -0.0557,  0.0278, -0.0784,  0.0393,  0.0677, -0.0736,\n",
      "         0.0168,  0.0197,  0.0733, -0.0188,  0.0022,  0.0541, -0.0734,  0.0450,\n",
      "        -0.0646,  0.0069, -0.0525,  0.0555, -0.0667,  0.0659, -0.0865,  0.0661,\n",
      "         0.0685, -0.0481, -0.0661,  0.0407,  0.0753,  0.0533, -0.0863,  0.0859,\n",
      "        -0.0138, -0.0759,  0.0754, -0.0533, -0.0685,  0.0117, -0.0182, -0.0454],\n",
      "       requires_grad=True) torch.Size([256])\n",
      "out.weight Parameter containing:\n",
      "tensor([[-0.0484, -0.0409, -0.0542,  ..., -0.0451,  0.0147,  0.0329],\n",
      "        [ 0.0033, -0.0294, -0.0083,  ..., -0.0059,  0.0335,  0.0072],\n",
      "        [-0.0246,  0.0150,  0.0229,  ...,  0.0599, -0.0010,  0.0343],\n",
      "        ...,\n",
      "        [ 0.0487, -0.0320, -0.0139,  ..., -0.0150,  0.0097, -0.0341],\n",
      "        [ 0.0414, -0.0360, -0.0587,  ...,  0.0302,  0.0351, -0.0054],\n",
      "        [ 0.0177, -0.0563,  0.0200,  ...,  0.0479, -0.0425,  0.0596]],\n",
      "       requires_grad=True) torch.Size([10, 256])\n",
      "out.bias Parameter containing:\n",
      "tensor([ 0.0360, -0.0614,  0.0430, -0.0365,  0.0561, -0.0087,  0.0066, -0.0542,\n",
      "        -0.0318,  0.0572], requires_grad=True) torch.Size([10])\n"
     ]
    }
   ],
   "source": [
    "for name,parameter in net.named_parameters():\n",
    "    print(name,parameter,parameter.size())"
   ]
  },
  {
   "cell_type": "code",
   "execution_count": 66,
   "id": "a7941045",
   "metadata": {},
   "outputs": [
    {
     "name": "stdout",
     "output_type": "stream",
     "text": [
      "torch.Size([64, 1, 28, 28]) torch.Size([64])\n"
     ]
    }
   ],
   "source": [
    "print(next(iter(train_dl))[0].shape,next(iter(train_dl))[1].shape)    "
   ]
  },
  {
   "cell_type": "code",
   "execution_count": null,
   "id": "24b62b0b",
   "metadata": {},
   "outputs": [],
   "source": [
    "def\n",
    "\n",
    "\n",
    "def fit(steps, model, loss_func, opt, train_dl, valid_dl):\n",
    "    for step in range(setps):\n",
    "        model.train()\n",
    "        for xb,yb in train_dl:\n",
    "            loss_batch()"
   ]
  }
 ],
 "metadata": {
  "kernelspec": {
   "display_name": "Python 3 (ipykernel)",
   "language": "python",
   "name": "python3"
  },
  "language_info": {
   "codemirror_mode": {
    "name": "ipython",
    "version": 3
   },
   "file_extension": ".py",
   "mimetype": "text/x-python",
   "name": "python",
   "nbconvert_exporter": "python",
   "pygments_lexer": "ipython3",
   "version": "3.9.19"
  }
 },
 "nbformat": 4,
 "nbformat_minor": 5
}
